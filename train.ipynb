{
 "cells": [
  {
   "cell_type": "code",
   "execution_count": null,
   "id": "1fc19a5f-fc91-4525-b2cf-802649ef2641",
   "metadata": {
    "tags": []
   },
   "outputs": [],
   "source": [
    "import random\n",
    "import numpy as np\n",
    "import os\n",
    "import matplotlib.pyplot as plt\n",
    "from glob import glob\n",
    "from PIL import Image, ImageDraw, ImageFont, ImageOps\n",
    "from tqdm import tqdm"
   ]
  },
  {
   "cell_type": "code",
   "execution_count": null,
   "id": "dd237080-7f5f-4882-adf2-d20769ef043d",
   "metadata": {
    "tags": []
   },
   "outputs": [],
   "source": [
    "\"\"\"\n",
    "학습 시키기 전 bounding box가 제대로 형성이 되었는지 확인하는 부분\n",
    "\"\"\"\n",
    "dir_main = \"/home/tlrkrwlsmd/yolov5/dataset\"\n",
    "filenames_image = glob(f\"{dir_main}/images/train/*.jpg\")[100:]\n",
    "filenames_label = [filename.replace('images', 'labels').replace('jpg', 'txt') for filename in filenames_image]\n",
    "classes = [\"name\", \"number\", \"information\"]\n",
    "color = []\n",
    "# color 생성하는 부분\n",
    "for _ in range(3):\n",
    "    c = list(np.random.choice(range(256), size=3)) + [255]\n",
    "    c = tuple(c)\n",
    "    color.append(c)\n",
    "\n",
    "# annotation 정보가 제대로 저장됐는지 확인하기 위한 bounding box를 시각화하는 함수\n",
    "def draw_bbox(draw, bbox, label, color=(0, 255, 0, 255), confs=None, size=15):\n",
    "    font = ImageFont.load_default()\n",
    "    draw.rectangle(bbox, outline=color, width =3)\n",
    "    def set_alpha(color, value):\n",
    "        background = list(color)\n",
    "        background[3] = value\n",
    "        return tuple(background)\n",
    "    background = set_alpha(color, 50)\n",
    "    draw.rectangle(bbox, outline=color, fill=background, width =3)\n",
    "    background = set_alpha(color, 150)\n",
    "    text = f\"{label}\" + (\"\" if confs==None else f\":{conf:0.4}\")\n",
    "    text_bbox = bbox[0], bbox[1], bbox[0]+len(text)*10, bbox[1]+25\n",
    "    draw.rectangle(text_bbox, outline=color, fill=background, width =3)\n",
    "    draw.text((bbox[0]+5, bbox[1]+5), text, (0,0,0), font=font)\n",
    "\n",
    "cnt = 3\n",
    "for filename_image, filename_label in tqdm(zip(filenames_image, filenames_label)):\n",
    "    img = Image.open(filename_image)\n",
    "    img = img.resize((640, 640))\n",
    "    width, height = img.size\n",
    "    draw = ImageDraw.Draw(img, 'RGBA')\n",
    "    with open(filename_label, 'r') as f:\n",
    "        labels = f.readlines()\n",
    "        # strip: 개행 문자 제거.\n",
    "        labels = list(map(lambda s: s.strip().split(), labels))\n",
    "    # bounding box를 그리는 부분\n",
    "    for label in labels:\n",
    "        # class는 0부터 시작!\n",
    "        cls = int(label[0])\n",
    "        print(cls)\n",
    "        x, y, w, h = map(float, label[1:])\n",
    "        x1, x2 = width * (x-w/2), width * (x+w/2)\n",
    "        y1, y2 = height * (y-h/2), height * (y+h/2)\n",
    "        x1, y1, x2, y2 = map(int, [x1, y1, x2, y2])\n",
    "        draw_bbox(draw, bbox=(x1, y1, x2, y2), label=classes[cls], color=color[cls], size=15)\n",
    "    img.show()\n",
    "    \n",
    "    cnt -= 1\n",
    "    if cnt ==0:\n",
    "        break"
   ]
  },
  {
   "cell_type": "code",
   "execution_count": null,
   "id": "4bf6a15b-255a-4047-973d-debd6fb86aac",
   "metadata": {
    "tags": []
   },
   "outputs": [],
   "source": [
    "\"\"\"\n",
    "학습 시키기 전 bounding box가 제대로 형성이 되었는지 확인하는 부분\n",
    "\"\"\"\n",
    "dir_main = \"/home/tlrkrwlsmd/adcard_data/\"\n",
    "filenames_image = glob(f\"{dir_main}/*.png\")[10:]\n",
    "# filenames_image = [os.path.join(dir_main, 'augment_10.png')]\n",
    "filenames_label = [filename.replace('images', 'labels').replace('png', 'txt') for filename in filenames_image]\n",
    "classes = [\"name\", \"number\", \"information\"]\n",
    "color = []\n",
    "# color 생성하는 부분\n",
    "for _ in range(3):\n",
    "    c = list(np.random.choice(range(256), size=3)) + [255]\n",
    "    c = tuple(c)\n",
    "    color.append(c)\n",
    "\n",
    "print(filenames_image[:3])\n",
    "# annotation 정보가 제대로 저장됐는지 확인하기 위한 bounding box를 시각화하는 함수\n",
    "def draw_bbox(draw, bbox, label, color=(0, 255, 0, 255), confs=None, size=15):\n",
    "    font = ImageFont.load_default()\n",
    "    draw.rectangle(bbox, outline=color, width =3)\n",
    "    def set_alpha(color, value):\n",
    "        background = list(color)\n",
    "        background[3] = value\n",
    "        return tuple(background)\n",
    "    # background = set_alpha(color, 200)\n",
    "    # draw.rectangle(bbox, outline=color, fill=background, width =3)\n",
    "    background = set_alpha(color, 150)\n",
    "    text = f\"{label}\" + (\"\" if confs==None else f\":{conf:0.4}\")\n",
    "    text_bbox = bbox[0], bbox[1], bbox[0]+len(text)*10, bbox[1]+25\n",
    "    draw.rectangle(text_bbox, outline=color, fill=background, width =3)\n",
    "    draw.text((bbox[0]+5, bbox[1]+5), text, (0,0,0), font=font)\n",
    "\n",
    "cnt = 1\n",
    "for filename_image, filename_label in tqdm(zip(filenames_image, filenames_label)):\n",
    "    img = Image.open(filename_image)\n",
    "    img = img.resize((640, 640))\n",
    "    width, height = img.size\n",
    "    draw = ImageDraw.Draw(img, 'RGBA')\n",
    "    with open(filename_label, 'r') as f:\n",
    "        labels = f.readlines()\n",
    "        # strip: 개행 문자 제거.\n",
    "        labels = list(map(lambda s: s.strip().split(), labels))\n",
    "    # bounding box를 그리는 부분\n",
    "    for label in labels:\n",
    "        # class는 0부터 시작!\n",
    "        cls = int(label[0])\n",
    "        x, y, w, h = map(float, label[1:])\n",
    "        x1, x2 = width * (x-w/2), width * (x+w/2)\n",
    "        y1, y2 = height * (y-h/2), height * (y+h/2)\n",
    "        x1, y1, x2, y2 = map(int, [x1, y1, x2, y2])\n",
    "        draw_bbox(draw, bbox=(x1, y1, x2, y2), label=classes[cls], color=color[cls], size=15)\n",
    "    img.save(\"/home/tlrkrwlsmd/output2.png\")\n",
    "    img.show()\n",
    "    \n",
    "    cnt -= 1\n",
    "    if cnt ==0:\n",
    "        break"
   ]
  },
  {
   "cell_type": "code",
   "execution_count": null,
   "id": "993c3290-5785-40a0-8456-73de64c54858",
   "metadata": {},
   "outputs": [],
   "source": [
    "import yaml\n",
    "data = {'train': \"/home/tlrkrwlsmd/yolov5/dataset/images/train\",\n",
    "        \"val\": \"/home/tlrkrwlsmd/yolov5/dataset/images/valid\",\n",
    "        \"nc\": 3,\n",
    "        \"names\": ['name', 'number', 'information']}\n",
    "\n",
    "with open(\"cfg.yaml\", \"w\") as f:\n",
    "    yaml.dump(data, f)"
   ]
  },
  {
   "cell_type": "code",
   "execution_count": null,
   "id": "94fb4fd1-ef26-4074-95b5-e333fdedb7b4",
   "metadata": {
    "tags": []
   },
   "outputs": [],
   "source": [
    "!python train.py --weights /home/tlrkrwlsmd/yolov5/yolov5s.pt --data /home/tlrkrwlsmd/yolov5/cfg.yaml --hyp /home/tlrkrwlsmd/yolov5/data/hyps/hyp.scratch-low.yaml --device 0 --cos-lr --patience 10 --batch-size 16 --label-smoothing 0.1 --workers 0"
   ]
  },
  {
   "cell_type": "code",
   "execution_count": null,
   "id": "338919c6-48a0-42a1-9159-5d9e3b212a10",
   "metadata": {},
   "outputs": [],
   "source": [
    "!python val.py --weights /home/tlrkrwlsmd/yolov5/runs/train/exp2/weights/best.pt --data /home/tlrkrwlsmd/yolov5/cfg.yaml --device 0"
   ]
  }
 ],
 "metadata": {
  "kernelspec": {
   "display_name": "Python 3 (ipykernel)",
   "language": "python",
   "name": "python3"
  },
  "language_info": {
   "codemirror_mode": {
    "name": "ipython",
    "version": 3
   },
   "file_extension": ".py",
   "mimetype": "text/x-python",
   "name": "python",
   "nbconvert_exporter": "python",
   "pygments_lexer": "ipython3",
   "version": "3.7.7"
  },
  "toc-autonumbering": true,
  "toc-showcode": true,
  "toc-showtags": false
 },
 "nbformat": 4,
 "nbformat_minor": 5
}
